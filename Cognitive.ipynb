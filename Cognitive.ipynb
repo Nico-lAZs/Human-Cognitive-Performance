{
 "cells": [
  {
   "cell_type": "markdown",
   "id": "a66b4842-74e8-44c7-8e9d-e44fedeb0bbc",
   "metadata": {
    "jp-MarkdownHeadingCollapsed": true
   },
   "source": [
    "# Importing"
   ]
  },
  {
   "cell_type": "code",
   "execution_count": 2,
   "id": "7dabee86-dc57-4786-a93e-bebd3094d836",
   "metadata": {},
   "outputs": [],
   "source": [
    "#!pip install pingouin\n",
    "import pandas as pd \n",
    "import os \n",
    "import seaborn as sns\n",
    "import matplotlib.pyplot as plt\n",
    "import statsmodels.api as sm\n",
    "from statsmodels.formula.api import ols\n",
    "from statsmodels.stats.anova import AnovaRM\n",
    "from statsmodels.stats.outliers_influence import variance_inflation_factor\n",
    "from statsmodels.tools.tools import add_constant\n",
    "from sklearn.model_selection import train_test_split\n",
    "from sklearn.pipeline import Pipeline\n",
    "from sklearn.compose import ColumnTransformer\n",
    "from sklearn.preprocessing import StandardScaler, OneHotEncoder\n",
    "import category_encoders as ce\n",
    "from sklearn.linear_model import LinearRegression\n",
    "import plotly.express as px \n",
    "import dash\n",
    "from scipy.stats import pearsonr\n",
    "from dash import dcc, html, Input, Output\n",
    "import numpy as np\n",
    "import scipy.stats as stats\n",
    "from scipy.stats import levene\n",
    "from scipy.stats import skew, kurtosis\n",
    "from statsmodels.graphics.gofplots import qqplot\n",
    "import pingouin as pg\n",
    "from sklearn.model_selection import cross_val_score"
   ]
  },
  {
   "cell_type": "code",
   "execution_count": 3,
   "id": "be431a87-dc5f-423b-921d-4149d2fb1646",
   "metadata": {},
   "outputs": [],
   "source": [
    "dir=os.path.join('datasets\\\\human_cognitive_performance.csv')\n",
    "df=pd.read_csv(dir)"
   ]
  },
  {
   "cell_type": "code",
   "execution_count": 4,
   "id": "bb73e0ae-edd5-45c3-95b9-dccf8a7fcb01",
   "metadata": {},
   "outputs": [
    {
     "data": {
      "text/html": [
       "<div>\n",
       "<style scoped>\n",
       "    .dataframe tbody tr th:only-of-type {\n",
       "        vertical-align: middle;\n",
       "    }\n",
       "\n",
       "    .dataframe tbody tr th {\n",
       "        vertical-align: top;\n",
       "    }\n",
       "\n",
       "    .dataframe thead th {\n",
       "        text-align: right;\n",
       "    }\n",
       "</style>\n",
       "<table border=\"1\" class=\"dataframe\">\n",
       "  <thead>\n",
       "    <tr style=\"text-align: right;\">\n",
       "      <th></th>\n",
       "      <th>User_ID</th>\n",
       "      <th>Age</th>\n",
       "      <th>Gender</th>\n",
       "      <th>Sleep_Duration</th>\n",
       "      <th>Stress_Level</th>\n",
       "      <th>Diet_Type</th>\n",
       "      <th>Daily_Screen_Time</th>\n",
       "      <th>Exercise_Frequency</th>\n",
       "      <th>Caffeine_Intake</th>\n",
       "      <th>Reaction_Time</th>\n",
       "      <th>Memory_Test_Score</th>\n",
       "      <th>Cognitive_Score</th>\n",
       "      <th>AI_Predicted_Score</th>\n",
       "    </tr>\n",
       "  </thead>\n",
       "  <tbody>\n",
       "    <tr>\n",
       "      <th>0</th>\n",
       "      <td>U1</td>\n",
       "      <td>57</td>\n",
       "      <td>Female</td>\n",
       "      <td>6.5</td>\n",
       "      <td>3</td>\n",
       "      <td>Non-Vegetarian</td>\n",
       "      <td>6.5</td>\n",
       "      <td>Medium</td>\n",
       "      <td>41</td>\n",
       "      <td>583.33</td>\n",
       "      <td>65</td>\n",
       "      <td>36.71</td>\n",
       "      <td>39.77</td>\n",
       "    </tr>\n",
       "    <tr>\n",
       "      <th>1</th>\n",
       "      <td>U2</td>\n",
       "      <td>39</td>\n",
       "      <td>Female</td>\n",
       "      <td>7.6</td>\n",
       "      <td>9</td>\n",
       "      <td>Non-Vegetarian</td>\n",
       "      <td>10.8</td>\n",
       "      <td>High</td>\n",
       "      <td>214</td>\n",
       "      <td>368.24</td>\n",
       "      <td>58</td>\n",
       "      <td>54.35</td>\n",
       "      <td>57.68</td>\n",
       "    </tr>\n",
       "    <tr>\n",
       "      <th>2</th>\n",
       "      <td>U3</td>\n",
       "      <td>26</td>\n",
       "      <td>Male</td>\n",
       "      <td>8.2</td>\n",
       "      <td>6</td>\n",
       "      <td>Vegetarian</td>\n",
       "      <td>5.7</td>\n",
       "      <td>Low</td>\n",
       "      <td>429</td>\n",
       "      <td>445.21</td>\n",
       "      <td>49</td>\n",
       "      <td>32.57</td>\n",
       "      <td>29.54</td>\n",
       "    </tr>\n",
       "    <tr>\n",
       "      <th>3</th>\n",
       "      <td>U4</td>\n",
       "      <td>32</td>\n",
       "      <td>Male</td>\n",
       "      <td>7.8</td>\n",
       "      <td>9</td>\n",
       "      <td>Vegetarian</td>\n",
       "      <td>8.3</td>\n",
       "      <td>Low</td>\n",
       "      <td>464</td>\n",
       "      <td>286.33</td>\n",
       "      <td>94</td>\n",
       "      <td>70.15</td>\n",
       "      <td>74.59</td>\n",
       "    </tr>\n",
       "    <tr>\n",
       "      <th>4</th>\n",
       "      <td>U5</td>\n",
       "      <td>50</td>\n",
       "      <td>Male</td>\n",
       "      <td>9.7</td>\n",
       "      <td>2</td>\n",
       "      <td>Non-Vegetarian</td>\n",
       "      <td>11.3</td>\n",
       "      <td>Medium</td>\n",
       "      <td>365</td>\n",
       "      <td>237.65</td>\n",
       "      <td>62</td>\n",
       "      <td>87.54</td>\n",
       "      <td>91.78</td>\n",
       "    </tr>\n",
       "    <tr>\n",
       "      <th>...</th>\n",
       "      <td>...</td>\n",
       "      <td>...</td>\n",
       "      <td>...</td>\n",
       "      <td>...</td>\n",
       "      <td>...</td>\n",
       "      <td>...</td>\n",
       "      <td>...</td>\n",
       "      <td>...</td>\n",
       "      <td>...</td>\n",
       "      <td>...</td>\n",
       "      <td>...</td>\n",
       "      <td>...</td>\n",
       "      <td>...</td>\n",
       "    </tr>\n",
       "    <tr>\n",
       "      <th>79995</th>\n",
       "      <td>U79996</td>\n",
       "      <td>55</td>\n",
       "      <td>Male</td>\n",
       "      <td>7.8</td>\n",
       "      <td>9</td>\n",
       "      <td>Non-Vegetarian</td>\n",
       "      <td>9.4</td>\n",
       "      <td>Low</td>\n",
       "      <td>157</td>\n",
       "      <td>312.34</td>\n",
       "      <td>55</td>\n",
       "      <td>50.80</td>\n",
       "      <td>46.49</td>\n",
       "    </tr>\n",
       "    <tr>\n",
       "      <th>79996</th>\n",
       "      <td>U79997</td>\n",
       "      <td>35</td>\n",
       "      <td>Female</td>\n",
       "      <td>9.8</td>\n",
       "      <td>6</td>\n",
       "      <td>Vegetarian</td>\n",
       "      <td>6.5</td>\n",
       "      <td>Medium</td>\n",
       "      <td>130</td>\n",
       "      <td>290.17</td>\n",
       "      <td>86</td>\n",
       "      <td>94.89</td>\n",
       "      <td>92.41</td>\n",
       "    </tr>\n",
       "    <tr>\n",
       "      <th>79997</th>\n",
       "      <td>U79998</td>\n",
       "      <td>32</td>\n",
       "      <td>Female</td>\n",
       "      <td>7.3</td>\n",
       "      <td>10</td>\n",
       "      <td>Non-Vegetarian</td>\n",
       "      <td>7.5</td>\n",
       "      <td>Low</td>\n",
       "      <td>462</td>\n",
       "      <td>249.57</td>\n",
       "      <td>72</td>\n",
       "      <td>63.51</td>\n",
       "      <td>67.35</td>\n",
       "    </tr>\n",
       "    <tr>\n",
       "      <th>79998</th>\n",
       "      <td>U79999</td>\n",
       "      <td>34</td>\n",
       "      <td>Male</td>\n",
       "      <td>8.7</td>\n",
       "      <td>8</td>\n",
       "      <td>Vegetarian</td>\n",
       "      <td>7.2</td>\n",
       "      <td>Medium</td>\n",
       "      <td>96</td>\n",
       "      <td>319.48</td>\n",
       "      <td>82</td>\n",
       "      <td>81.43</td>\n",
       "      <td>77.95</td>\n",
       "    </tr>\n",
       "    <tr>\n",
       "      <th>79999</th>\n",
       "      <td>U80000</td>\n",
       "      <td>41</td>\n",
       "      <td>Female</td>\n",
       "      <td>7.9</td>\n",
       "      <td>7</td>\n",
       "      <td>Vegetarian</td>\n",
       "      <td>2.0</td>\n",
       "      <td>Medium</td>\n",
       "      <td>27</td>\n",
       "      <td>263.21</td>\n",
       "      <td>42</td>\n",
       "      <td>80.39</td>\n",
       "      <td>84.45</td>\n",
       "    </tr>\n",
       "  </tbody>\n",
       "</table>\n",
       "<p>80000 rows × 13 columns</p>\n",
       "</div>"
      ],
      "text/plain": [
       "      User_ID  Age  Gender  Sleep_Duration  Stress_Level       Diet_Type  \\\n",
       "0          U1   57  Female             6.5             3  Non-Vegetarian   \n",
       "1          U2   39  Female             7.6             9  Non-Vegetarian   \n",
       "2          U3   26    Male             8.2             6      Vegetarian   \n",
       "3          U4   32    Male             7.8             9      Vegetarian   \n",
       "4          U5   50    Male             9.7             2  Non-Vegetarian   \n",
       "...       ...  ...     ...             ...           ...             ...   \n",
       "79995  U79996   55    Male             7.8             9  Non-Vegetarian   \n",
       "79996  U79997   35  Female             9.8             6      Vegetarian   \n",
       "79997  U79998   32  Female             7.3            10  Non-Vegetarian   \n",
       "79998  U79999   34    Male             8.7             8      Vegetarian   \n",
       "79999  U80000   41  Female             7.9             7      Vegetarian   \n",
       "\n",
       "       Daily_Screen_Time Exercise_Frequency  Caffeine_Intake  Reaction_Time  \\\n",
       "0                    6.5             Medium               41         583.33   \n",
       "1                   10.8               High              214         368.24   \n",
       "2                    5.7                Low              429         445.21   \n",
       "3                    8.3                Low              464         286.33   \n",
       "4                   11.3             Medium              365         237.65   \n",
       "...                  ...                ...              ...            ...   \n",
       "79995                9.4                Low              157         312.34   \n",
       "79996                6.5             Medium              130         290.17   \n",
       "79997                7.5                Low              462         249.57   \n",
       "79998                7.2             Medium               96         319.48   \n",
       "79999                2.0             Medium               27         263.21   \n",
       "\n",
       "       Memory_Test_Score  Cognitive_Score  AI_Predicted_Score  \n",
       "0                     65            36.71               39.77  \n",
       "1                     58            54.35               57.68  \n",
       "2                     49            32.57               29.54  \n",
       "3                     94            70.15               74.59  \n",
       "4                     62            87.54               91.78  \n",
       "...                  ...              ...                 ...  \n",
       "79995                 55            50.80               46.49  \n",
       "79996                 86            94.89               92.41  \n",
       "79997                 72            63.51               67.35  \n",
       "79998                 82            81.43               77.95  \n",
       "79999                 42            80.39               84.45  \n",
       "\n",
       "[80000 rows x 13 columns]"
      ]
     },
     "execution_count": 4,
     "metadata": {},
     "output_type": "execute_result"
    }
   ],
   "source": [
    "df"
   ]
  },
  {
   "cell_type": "markdown",
   "id": "eacef448-bc04-4ea3-a15c-3b2c0e6d3591",
   "metadata": {
    "jp-MarkdownHeadingCollapsed": true
   },
   "source": [
    "# Cleaning"
   ]
  },
  {
   "cell_type": "code",
   "execution_count": 6,
   "id": "d473d251-58ed-4b35-9db2-2baac1498eb5",
   "metadata": {},
   "outputs": [],
   "source": [
    "df.drop(['User_ID','AI_Predicted_Score'],axis=1,inplace=True) "
   ]
  },
  {
   "cell_type": "code",
   "execution_count": 7,
   "id": "54dd3dbf-378f-4f02-9494-6f3a6384fe87",
   "metadata": {},
   "outputs": [
    {
     "data": {
      "text/html": [
       "<div>\n",
       "<style scoped>\n",
       "    .dataframe tbody tr th:only-of-type {\n",
       "        vertical-align: middle;\n",
       "    }\n",
       "\n",
       "    .dataframe tbody tr th {\n",
       "        vertical-align: top;\n",
       "    }\n",
       "\n",
       "    .dataframe thead th {\n",
       "        text-align: right;\n",
       "    }\n",
       "</style>\n",
       "<table border=\"1\" class=\"dataframe\">\n",
       "  <thead>\n",
       "    <tr style=\"text-align: right;\">\n",
       "      <th></th>\n",
       "      <th>Age</th>\n",
       "      <th>Gender</th>\n",
       "      <th>Sleep_Duration</th>\n",
       "      <th>Stress_Level</th>\n",
       "      <th>Diet_Type</th>\n",
       "      <th>Daily_Screen_Time</th>\n",
       "      <th>Exercise_Frequency</th>\n",
       "      <th>Caffeine_Intake</th>\n",
       "      <th>Reaction_Time</th>\n",
       "      <th>Memory_Test_Score</th>\n",
       "      <th>Cognitive_Score</th>\n",
       "    </tr>\n",
       "  </thead>\n",
       "  <tbody>\n",
       "  </tbody>\n",
       "</table>\n",
       "</div>"
      ],
      "text/plain": [
       "Empty DataFrame\n",
       "Columns: [Age, Gender, Sleep_Duration, Stress_Level, Diet_Type, Daily_Screen_Time, Exercise_Frequency, Caffeine_Intake, Reaction_Time, Memory_Test_Score, Cognitive_Score]\n",
       "Index: []"
      ]
     },
     "execution_count": 7,
     "metadata": {},
     "output_type": "execute_result"
    }
   ],
   "source": [
    "df[df.isnull().any(axis=1)] "
   ]
  },
  {
   "cell_type": "code",
   "execution_count": 8,
   "id": "57ec7d27-9775-4c38-aac6-a0bbf848f9ef",
   "metadata": {},
   "outputs": [
    {
     "data": {
      "text/html": [
       "<div>\n",
       "<style scoped>\n",
       "    .dataframe tbody tr th:only-of-type {\n",
       "        vertical-align: middle;\n",
       "    }\n",
       "\n",
       "    .dataframe tbody tr th {\n",
       "        vertical-align: top;\n",
       "    }\n",
       "\n",
       "    .dataframe thead th {\n",
       "        text-align: right;\n",
       "    }\n",
       "</style>\n",
       "<table border=\"1\" class=\"dataframe\">\n",
       "  <thead>\n",
       "    <tr style=\"text-align: right;\">\n",
       "      <th></th>\n",
       "      <th>Age</th>\n",
       "      <th>Gender</th>\n",
       "      <th>Sleep_Duration</th>\n",
       "      <th>Stress_Level</th>\n",
       "      <th>Diet_Type</th>\n",
       "      <th>Daily_Screen_Time</th>\n",
       "      <th>Exercise_Frequency</th>\n",
       "      <th>Caffeine_Intake</th>\n",
       "      <th>Reaction_Time</th>\n",
       "      <th>Memory_Test_Score</th>\n",
       "      <th>Cognitive_Score</th>\n",
       "    </tr>\n",
       "  </thead>\n",
       "  <tbody>\n",
       "  </tbody>\n",
       "</table>\n",
       "</div>"
      ],
      "text/plain": [
       "Empty DataFrame\n",
       "Columns: [Age, Gender, Sleep_Duration, Stress_Level, Diet_Type, Daily_Screen_Time, Exercise_Frequency, Caffeine_Intake, Reaction_Time, Memory_Test_Score, Cognitive_Score]\n",
       "Index: []"
      ]
     },
     "execution_count": 8,
     "metadata": {},
     "output_type": "execute_result"
    }
   ],
   "source": [
    "df[df.duplicated()] "
   ]
  },
  {
   "cell_type": "markdown",
   "id": "7a2b0e5c-5b66-4032-b2d0-3f91782d85da",
   "metadata": {},
   "source": [
    "#### there were not any duplicate values or missing values and it has been removed these irrelevant variables for the analysis (User_ID, AI_Predicted_Score)"
   ]
  },
  {
   "cell_type": "markdown",
   "id": "0da93c47-b51d-4782-a074-7ca520bc2daa",
   "metadata": {},
   "source": [
    "# Bivariate Analysis"
   ]
  },
  {
   "cell_type": "code",
   "execution_count": 11,
   "id": "d71926bf-cae3-4057-b1bf-378509a617fa",
   "metadata": {},
   "outputs": [
    {
     "data": {
      "text/html": [
       "<div>\n",
       "<style scoped>\n",
       "    .dataframe tbody tr th:only-of-type {\n",
       "        vertical-align: middle;\n",
       "    }\n",
       "\n",
       "    .dataframe tbody tr th {\n",
       "        vertical-align: top;\n",
       "    }\n",
       "\n",
       "    .dataframe thead th {\n",
       "        text-align: right;\n",
       "    }\n",
       "</style>\n",
       "<table border=\"1\" class=\"dataframe\">\n",
       "  <thead>\n",
       "    <tr style=\"text-align: right;\">\n",
       "      <th></th>\n",
       "      <th>Age</th>\n",
       "      <th>Gender</th>\n",
       "      <th>Sleep_Duration</th>\n",
       "      <th>Stress_Level</th>\n",
       "      <th>Diet_Type</th>\n",
       "      <th>Daily_Screen_Time</th>\n",
       "      <th>Exercise_Frequency</th>\n",
       "      <th>Caffeine_Intake</th>\n",
       "      <th>Reaction_Time</th>\n",
       "      <th>Memory_Test_Score</th>\n",
       "      <th>Cognitive_Score</th>\n",
       "    </tr>\n",
       "  </thead>\n",
       "  <tbody>\n",
       "    <tr>\n",
       "      <th>0</th>\n",
       "      <td>57</td>\n",
       "      <td>Female</td>\n",
       "      <td>6.5</td>\n",
       "      <td>3</td>\n",
       "      <td>Non-Vegetarian</td>\n",
       "      <td>6.5</td>\n",
       "      <td>Medium</td>\n",
       "      <td>41</td>\n",
       "      <td>583.33</td>\n",
       "      <td>65</td>\n",
       "      <td>36.71</td>\n",
       "    </tr>\n",
       "    <tr>\n",
       "      <th>1</th>\n",
       "      <td>39</td>\n",
       "      <td>Female</td>\n",
       "      <td>7.6</td>\n",
       "      <td>9</td>\n",
       "      <td>Non-Vegetarian</td>\n",
       "      <td>10.8</td>\n",
       "      <td>High</td>\n",
       "      <td>214</td>\n",
       "      <td>368.24</td>\n",
       "      <td>58</td>\n",
       "      <td>54.35</td>\n",
       "    </tr>\n",
       "    <tr>\n",
       "      <th>2</th>\n",
       "      <td>26</td>\n",
       "      <td>Male</td>\n",
       "      <td>8.2</td>\n",
       "      <td>6</td>\n",
       "      <td>Vegetarian</td>\n",
       "      <td>5.7</td>\n",
       "      <td>Low</td>\n",
       "      <td>429</td>\n",
       "      <td>445.21</td>\n",
       "      <td>49</td>\n",
       "      <td>32.57</td>\n",
       "    </tr>\n",
       "    <tr>\n",
       "      <th>3</th>\n",
       "      <td>32</td>\n",
       "      <td>Male</td>\n",
       "      <td>7.8</td>\n",
       "      <td>9</td>\n",
       "      <td>Vegetarian</td>\n",
       "      <td>8.3</td>\n",
       "      <td>Low</td>\n",
       "      <td>464</td>\n",
       "      <td>286.33</td>\n",
       "      <td>94</td>\n",
       "      <td>70.15</td>\n",
       "    </tr>\n",
       "    <tr>\n",
       "      <th>4</th>\n",
       "      <td>50</td>\n",
       "      <td>Male</td>\n",
       "      <td>9.7</td>\n",
       "      <td>2</td>\n",
       "      <td>Non-Vegetarian</td>\n",
       "      <td>11.3</td>\n",
       "      <td>Medium</td>\n",
       "      <td>365</td>\n",
       "      <td>237.65</td>\n",
       "      <td>62</td>\n",
       "      <td>87.54</td>\n",
       "    </tr>\n",
       "    <tr>\n",
       "      <th>...</th>\n",
       "      <td>...</td>\n",
       "      <td>...</td>\n",
       "      <td>...</td>\n",
       "      <td>...</td>\n",
       "      <td>...</td>\n",
       "      <td>...</td>\n",
       "      <td>...</td>\n",
       "      <td>...</td>\n",
       "      <td>...</td>\n",
       "      <td>...</td>\n",
       "      <td>...</td>\n",
       "    </tr>\n",
       "    <tr>\n",
       "      <th>79995</th>\n",
       "      <td>55</td>\n",
       "      <td>Male</td>\n",
       "      <td>7.8</td>\n",
       "      <td>9</td>\n",
       "      <td>Non-Vegetarian</td>\n",
       "      <td>9.4</td>\n",
       "      <td>Low</td>\n",
       "      <td>157</td>\n",
       "      <td>312.34</td>\n",
       "      <td>55</td>\n",
       "      <td>50.80</td>\n",
       "    </tr>\n",
       "    <tr>\n",
       "      <th>79996</th>\n",
       "      <td>35</td>\n",
       "      <td>Female</td>\n",
       "      <td>9.8</td>\n",
       "      <td>6</td>\n",
       "      <td>Vegetarian</td>\n",
       "      <td>6.5</td>\n",
       "      <td>Medium</td>\n",
       "      <td>130</td>\n",
       "      <td>290.17</td>\n",
       "      <td>86</td>\n",
       "      <td>94.89</td>\n",
       "    </tr>\n",
       "    <tr>\n",
       "      <th>79997</th>\n",
       "      <td>32</td>\n",
       "      <td>Female</td>\n",
       "      <td>7.3</td>\n",
       "      <td>10</td>\n",
       "      <td>Non-Vegetarian</td>\n",
       "      <td>7.5</td>\n",
       "      <td>Low</td>\n",
       "      <td>462</td>\n",
       "      <td>249.57</td>\n",
       "      <td>72</td>\n",
       "      <td>63.51</td>\n",
       "    </tr>\n",
       "    <tr>\n",
       "      <th>79998</th>\n",
       "      <td>34</td>\n",
       "      <td>Male</td>\n",
       "      <td>8.7</td>\n",
       "      <td>8</td>\n",
       "      <td>Vegetarian</td>\n",
       "      <td>7.2</td>\n",
       "      <td>Medium</td>\n",
       "      <td>96</td>\n",
       "      <td>319.48</td>\n",
       "      <td>82</td>\n",
       "      <td>81.43</td>\n",
       "    </tr>\n",
       "    <tr>\n",
       "      <th>79999</th>\n",
       "      <td>41</td>\n",
       "      <td>Female</td>\n",
       "      <td>7.9</td>\n",
       "      <td>7</td>\n",
       "      <td>Vegetarian</td>\n",
       "      <td>2.0</td>\n",
       "      <td>Medium</td>\n",
       "      <td>27</td>\n",
       "      <td>263.21</td>\n",
       "      <td>42</td>\n",
       "      <td>80.39</td>\n",
       "    </tr>\n",
       "  </tbody>\n",
       "</table>\n",
       "<p>80000 rows × 11 columns</p>\n",
       "</div>"
      ],
      "text/plain": [
       "       Age  Gender  Sleep_Duration  Stress_Level       Diet_Type  \\\n",
       "0       57  Female             6.5             3  Non-Vegetarian   \n",
       "1       39  Female             7.6             9  Non-Vegetarian   \n",
       "2       26    Male             8.2             6      Vegetarian   \n",
       "3       32    Male             7.8             9      Vegetarian   \n",
       "4       50    Male             9.7             2  Non-Vegetarian   \n",
       "...    ...     ...             ...           ...             ...   \n",
       "79995   55    Male             7.8             9  Non-Vegetarian   \n",
       "79996   35  Female             9.8             6      Vegetarian   \n",
       "79997   32  Female             7.3            10  Non-Vegetarian   \n",
       "79998   34    Male             8.7             8      Vegetarian   \n",
       "79999   41  Female             7.9             7      Vegetarian   \n",
       "\n",
       "       Daily_Screen_Time Exercise_Frequency  Caffeine_Intake  Reaction_Time  \\\n",
       "0                    6.5             Medium               41         583.33   \n",
       "1                   10.8               High              214         368.24   \n",
       "2                    5.7                Low              429         445.21   \n",
       "3                    8.3                Low              464         286.33   \n",
       "4                   11.3             Medium              365         237.65   \n",
       "...                  ...                ...              ...            ...   \n",
       "79995                9.4                Low              157         312.34   \n",
       "79996                6.5             Medium              130         290.17   \n",
       "79997                7.5                Low              462         249.57   \n",
       "79998                7.2             Medium               96         319.48   \n",
       "79999                2.0             Medium               27         263.21   \n",
       "\n",
       "       Memory_Test_Score  Cognitive_Score  \n",
       "0                     65            36.71  \n",
       "1                     58            54.35  \n",
       "2                     49            32.57  \n",
       "3                     94            70.15  \n",
       "4                     62            87.54  \n",
       "...                  ...              ...  \n",
       "79995                 55            50.80  \n",
       "79996                 86            94.89  \n",
       "79997                 72            63.51  \n",
       "79998                 82            81.43  \n",
       "79999                 42            80.39  \n",
       "\n",
       "[80000 rows x 11 columns]"
      ]
     },
     "execution_count": 11,
     "metadata": {},
     "output_type": "execute_result"
    }
   ],
   "source": [
    "df"
   ]
  },
  {
   "cell_type": "code",
   "execution_count": 12,
   "id": "1ae06a88-1a41-42aa-884d-5b049fe06309",
   "metadata": {},
   "outputs": [
    {
     "name": "stdout",
     "output_type": "stream",
     "text": [
      "number of rows: 80000 ,number of columns : 11\n"
     ]
    }
   ],
   "source": [
    "print(f'number of rows: {df.shape[0]} ,number of columns : {df.shape[1]}')"
   ]
  },
  {
   "cell_type": "code",
   "execution_count": 13,
   "id": "79f4f367-0fba-4684-ace7-d2b7f7fb1cff",
   "metadata": {},
   "outputs": [],
   "source": [
    "numerical_columns= ['Age','Sleep_Duration','Daily_Screen_Time','Caffeine_Intake','Reaction_Time','Memory_Test_Score']"
   ]
  },
  {
   "cell_type": "code",
   "execution_count": 14,
   "id": "139edbe0-65c7-4414-af92-bebf2a7f4828",
   "metadata": {},
   "outputs": [
    {
     "data": {
      "text/html": [
       "\n",
       "        <iframe\n",
       "            width=\"100%\"\n",
       "            height=\"650\"\n",
       "            src=\"http://127.0.0.1:8054/\"\n",
       "            frameborder=\"0\"\n",
       "            allowfullscreen\n",
       "            \n",
       "        ></iframe>\n",
       "        "
      ],
      "text/plain": [
       "<IPython.lib.display.IFrame at 0x1e3f1929090>"
      ]
     },
     "metadata": {},
     "output_type": "display_data"
    }
   ],
   "source": [
    "app= dash.Dash(__name__)\n",
    "app.layout = html.Div([\n",
    "    html.H2('Relation With Cognitive Score'),\n",
    "    dcc.Dropdown(\n",
    "        id='x-axis-dropdown',\n",
    "        options=[{'label':col,'value':col} for col in numerical_columns ],\n",
    "        value='Age'\n",
    "    ),   \n",
    "        dcc.Graph(id='matrix')\n",
    "                \n",
    "])\n",
    "\n",
    "@app.callback(\n",
    "    Output('matrix','figure'),\n",
    "    Input('x-axis-dropdown','value')\n",
    ")\n",
    "\n",
    "def update_graph(selected_columns):\n",
    "    if not selected_columns:\n",
    "        return px.scatter(title=\"Relation with cognitive score\")\n",
    "\n",
    "        \n",
    "\n",
    "\n",
    "    selected_var = selected_columns\n",
    "\n",
    "    fig=px.density_heatmap(\n",
    "        data_frame=df,\n",
    "        x=selected_columns,\n",
    "        y='Cognitive_Score',\n",
    "        nbinsx=40,\n",
    "        nbinsy=40,\n",
    "        color_continuous_scale='Viridis'\n",
    "     \n",
    ")\n",
    "\n",
    "    return fig \n",
    "\n",
    "if __name__ == '__main__':\n",
    "    app.run_server(port=8054,debug=True)\n",
    "\n",
    "\n",
    "\n"
   ]
  },
  {
   "cell_type": "code",
   "execution_count": null,
   "id": "786435df-1f04-445e-9f13-49964b62ab6c",
   "metadata": {},
   "outputs": [],
   "source": [
    "app = dash.Dash(__name__)\n",
    "app.layout = html.Div([\n",
    "    html.H2('Relation With Cognitive Score'),\n",
    "    dcc.Dropdown(\n",
    "        id='x-axis-dropdown',\n",
    "        options=[{'label': col, 'value': col} for col in numerical_columns],\n",
    "        value='Age'\n",
    "    ),   \n",
    "    dcc.Graph(id='matrix')        \n",
    "])\n",
    "\n",
    "@app.callback(\n",
    "    Output('matrix', 'figure'),\n",
    "    Input('x-axis-dropdown', 'value')\n",
    ")\n",
    "def update_graph(selected_column):\n",
    "    if not selected_column:\n",
    "        return px.scatter(title=\"Relation with Cognitive Score\")\n",
    "\n",
    "    # Regla de Sturges: número de bins ≈ log2(n) + 1\n",
    "    n = df.shape[0]\n",
    "    sturges = int(np.log2(n) + 1)\n",
    "\n",
    "\n",
    "    df['binned'] = pd.cut(df[selected_column], bins=sturges)\n",
    "\n",
    "    # Calcular media del Cognitive Score por cada bin\n",
    "    agg_df = df.groupby('binned', observed=True)['Cognitive_Score'].mean().reset_index()\n",
    "\n",
    "   # Crear etiquetas limpias del tipo \"30–35\"\n",
    "    agg_df['binned_str'] = agg_df['binned'].apply(lambda x: f\"{int(x.left)}–{int(x.right)}\")\n",
    "\n",
    "    # Crear gráfico de líneas\n",
    "    fig = px.line(\n",
    "        agg_df,\n",
    "        x='binned_str',\n",
    "        y='Cognitive_Score',\n",
    "        markers=True,\n",
    "        title=f'Promedio del Cognitive Score por rangos de {selected_column}'\n",
    "    )\n",
    "\n",
    "    fig.update_traces(\n",
    "    mode=\"lines+markers\", \n",
    "    marker=dict(size=6, color=\"white\",line=dict(width=2.5,color='Skyblue')) \n",
    ")\n",
    "    \n",
    "    fig.update_layout(plot_bgcolor=\"Black\",  \n",
    "                      paper_bgcolor=\"Black\",xaxis_title=selected_column, yaxis_title='Promedio Cognitive Score',\n",
    "                     font=dict(family=\"Dni light\", size=14, color=\"White\"))\n",
    "\n",
    "    return fig\n",
    "\n",
    "if __name__ == '__main__':\n",
    "    app.run_server(port=8054,debug=True)\n"
   ]
  },
  {
   "cell_type": "markdown",
   "id": "012ea531-6747-450c-b0ae-8c3a29b8a6de",
   "metadata": {},
   "source": [
    "# Correlation Analysis"
   ]
  },
  {
   "cell_type": "code",
   "execution_count": null,
   "id": "696061a3-e268-4074-ae5e-db81de5cf5d8",
   "metadata": {},
   "outputs": [],
   "source": [
    "df.columns"
   ]
  },
  {
   "cell_type": "code",
   "execution_count": null,
   "id": "305ec2e9-51f0-4b4f-8787-81e80349aa92",
   "metadata": {},
   "outputs": [],
   "source": [
    "df_correlation=df[['Age', 'Sleep_Duration', \n",
    "       'Daily_Screen_Time','Caffeine_Intake',\n",
    "       'Reaction_Time', 'Memory_Test_Score', 'Cognitive_Score']]"
   ]
  },
  {
   "cell_type": "code",
   "execution_count": null,
   "id": "2c1bb66b-be4e-46a2-bdd6-b6e8360c9357",
   "metadata": {},
   "outputs": [],
   "source": [
    "corr_matrix = df_correlation.corr()"
   ]
  },
  {
   "cell_type": "code",
   "execution_count": null,
   "id": "00df447b-35a5-4ad4-91b3-7fa0b737a952",
   "metadata": {},
   "outputs": [],
   "source": [
    "plt.figure(figsize=(10, 8))\n",
    "sns.heatmap(corr_matrix, annot=True, cmap='coolwarm', fmt=\".2f\", linewidths=0.5)\n",
    "plt.title('Mapa de calor de correlaciones')\n",
    "plt.savefig(\"heatmap_correlaciones.png\", dpi=300, bbox_inches='tight')\n",
    "plt.show()"
   ]
  },
  {
   "cell_type": "code",
   "execution_count": null,
   "id": "9d10b6ee-83e6-4771-8a0e-b2347c43c7e4",
   "metadata": {},
   "outputs": [],
   "source": [
    "correlation_results = []\n",
    "\n",
    "for col in df_correlation.columns:\n",
    "    if col != 'Cognitive_Score':\n",
    "        r, p = pearsonr(df_correlation[col], df_correlation['Cognitive_Score'])\n",
    "        correlation_results.append({\n",
    "            'Variable': col,\n",
    "            'Coeficiente de correlación (r)': round(r, 3),\n",
    "            'Valor p': round(p, 4),\n",
    "            'Significativo (p < 0.05)': p < 0.05\n",
    "        })\n",
    "\n",
    "# Convertir resultados a DataFrame\n",
    "df_resultados = pd.DataFrame(correlation_results)\n",
    "print(df_resultados)"
   ]
  },
  {
   "cell_type": "markdown",
   "id": "6e9a44bd-0a02-4350-865e-bd048595b378",
   "metadata": {},
   "source": [
    "# Validacion de supuestos -- Anova"
   ]
  },
  {
   "cell_type": "markdown",
   "id": "cd26cfec-36cb-4176-b047-2c72ed2b7eea",
   "metadata": {},
   "source": [
    "## Normalidad"
   ]
  },
  {
   "cell_type": "code",
   "execution_count": null,
   "id": "c92e0823-8424-494b-93c1-4ac1565d2621",
   "metadata": {},
   "outputs": [],
   "source": [
    "df_categorical=df[['Gender','Diet_Type','Exercise_Frequency','Cognitive_Score']]"
   ]
  },
  {
   "cell_type": "code",
   "execution_count": null,
   "id": "293632d6-d994-4506-ad04-4eebcd4e1451",
   "metadata": {},
   "outputs": [],
   "source": [
    "df_categorical"
   ]
  },
  {
   "cell_type": "code",
   "execution_count": null,
   "id": "e3e4274b-1a8c-475b-8119-02521a00d71a",
   "metadata": {},
   "outputs": [],
   "source": [
    "group_counts = df_categorical.groupby(['Gender', 'Diet_Type', 'Exercise_Frequency']).size()\n",
    "print(group_counts)"
   ]
  },
  {
   "cell_type": "code",
   "execution_count": null,
   "id": "fd9514a7-6a2c-4732-a4b4-c786998f32b3",
   "metadata": {},
   "outputs": [],
   "source": [
    "\n",
    "\n",
    "def analizar_normalidad_por_grupo(df, grupo, variable_continua='Cognitive_Score'):\n",
    "    categorias = df[grupo].unique()\n",
    "    \n",
    "    resultados = []\n",
    "    \n",
    "    for categoria in categorias:\n",
    "        datos = df[df[grupo] == categoria][variable_continua]\n",
    "        \n",
    "        if len(datos) > 0:\n",
    "            # Cálculo de estadísticos\n",
    "            s = skew(datos)\n",
    "            k = kurtosis(datos)\n",
    "            \n",
    "            # Visualización\n",
    "            plt.figure(figsize=(12, 4))\n",
    "            \n",
    "            # Histograma\n",
    "            plt.subplot(1, 2, 1)\n",
    "            sns.histplot(datos, kde=True)\n",
    "            plt.title(f'{grupo}={categoria}\\nAsimetría={s:.2f}, Curtosis={k:.2f}')\n",
    "            \n",
    "            # QQ-plot\n",
    "            plt.subplot(1, 2, 2)\n",
    "            qqplot(datos, line='s', ax=plt.gca())\n",
    "            plt.title('QQ-plot')\n",
    "            \n",
    "            plt.tight_layout()\n",
    "             # Guardar la figura\n",
    "            filename = f'{grupo}_{categoria}_normalidad.png'\n",
    "            plt.savefig(os.path.join('Images', filename))  # Guarda la imagen en la carpeta especificada\n",
    "            plt.show()\n",
    "            plt.close()  # Cerrar la figura después de guardarla para liberar memoria\n",
    "            \n",
    "\n",
    "# Aplicar a todas tus variables categóricas\n",
    "resultados_gender = analizar_normalidad_por_grupo(df_categorical, 'Gender')\n",
    "resultados_diet = analizar_normalidad_por_grupo(df_categorical, 'Diet_Type')\n",
    "resultados_exercise = analizar_normalidad_por_grupo(df_categorical, 'Exercise_Frequency')"
   ]
  },
  {
   "cell_type": "markdown",
   "id": "ed6e252c-040c-43a0-b49f-c30e0b6e707c",
   "metadata": {},
   "source": [
    "## Homogeniedad de varianzas "
   ]
  },
  {
   "cell_type": "code",
   "execution_count": null,
   "id": "14907f61-6962-4fff-9d0b-4859eec69aa7",
   "metadata": {},
   "outputs": [],
   "source": [
    "from scipy.stats import levene\n",
    "\n",
    "# Levene's Test para Gender\n",
    "grupo_male = df[df['Gender'] == 'Male']['Cognitive_Score']\n",
    "grupo_female = df[df['Gender'] == 'Female']['Cognitive_Score']\n",
    "grupo_other = df[df['Gender'] == 'Other']['Cognitive_Score']\n",
    "\n",
    "stat_gender, p_gender = levene(grupo_male, grupo_female, grupo_other)\n",
    "print(f\"Levene test para Gender - p-value: {p_gender:.4f}\")\n",
    "\n",
    "# Levene's Test para Diet_Type\n",
    "grupos_dieta = [grupo['Cognitive_Score'] for name, grupo in df.groupby('Diet_Type')]\n",
    "stat_dieta, p_dieta = levene(*grupos_dieta)\n",
    "print(f\"Levene test para Diet_Type - p-value: {p_dieta:.4f}\")\n",
    "\n",
    "# Levene's Test para Exercise_Frequency\n",
    "grupos_ejercicio = [grupo['Cognitive_Score'] for name, grupo in df.groupby('Exercise_Frequency')]\n",
    "stat_ejercicio, p_ejercicio = levene(*grupos_ejercicio)\n",
    "print(f\"Levene test para Exercise_Frequency - p-value: {p_ejercicio:.4f}\")\n"
   ]
  },
  {
   "cell_type": "markdown",
   "id": "510ae9fa-acd8-4a66-b8dd-0f1e0e774916",
   "metadata": {},
   "source": [
    "# ANOVA"
   ]
  },
  {
   "cell_type": "code",
   "execution_count": null,
   "id": "518914b9-4318-4933-9388-2c310631e93a",
   "metadata": {},
   "outputs": [],
   "source": [
    "# Modelo de three-way ANOVA con interacción\n",
    "modelo = ols('Cognitive_Score ~ C(Gender) * C(Diet_Type)', data=df_categorical).fit()\n",
    "anova_tabla = sm.stats.anova_lm(modelo, typ=2)\n",
    "# Extraer sum_sq\n",
    "ss_total = anova_tabla['sum_sq'].sum()\n",
    "eta_squared = anova_tabla['sum_sq'] / ss_total\n",
    "\n",
    "# Añadirlo a la tabla original\n",
    "anova_tabla['eta_squared'] = eta_squared\n",
    "anova_tabla"
   ]
  },
  {
   "cell_type": "code",
   "execution_count": null,
   "id": "3d49281d-6435-4c18-95ec-3d42691f3da7",
   "metadata": {},
   "outputs": [],
   "source": [
    "# por no tener varianza homogenea exercise frequency utilizamos welch annova \n",
    "welch_anova = pg.welch_anova(dv='Cognitive_Score', between='Exercise_Frequency', data=df_categorical)\n",
    "print(welch_anova.to_string(float_format='{:.3f}'.format)) # cambiando el numero de decimales "
   ]
  },
  {
   "cell_type": "code",
   "execution_count": null,
   "id": "8ea7bcbb-c488-4778-b550-921acf38a758",
   "metadata": {},
   "outputs": [],
   "source": [
    "suma_total_sq=5.910541e+02+1.525509e+03+2.602179e+06+5.582019e+02+2.023083e+03+1.347967e+03+3.738810e+03+3.992376e+07"
   ]
  },
  {
   "cell_type": "code",
   "execution_count": null,
   "id": "962de6a2-39d8-4e17-bba5-a5b7d02e683d",
   "metadata": {},
   "outputs": [],
   "source": [
    "print(suma_total_sq)"
   ]
  },
  {
   "cell_type": "code",
   "execution_count": null,
   "id": "76d84790-2d48-412b-820d-2c0e1fa533bd",
   "metadata": {},
   "outputs": [],
   "source": [
    "print(f'porcentage de variabilidad explicadoa por la variable que rechazo la hipotesis nula (Exercise_Frequency): {round((2602179/suma_total_sq)*100)} %')"
   ]
  },
  {
   "cell_type": "markdown",
   "id": "db66d627-6d44-42a3-a2e7-33b391ec42a4",
   "metadata": {},
   "source": [
    "# Coeficientes de regresion"
   ]
  },
  {
   "cell_type": "code",
   "execution_count": null,
   "id": "5d22498b-9f59-4ad7-80c2-3e68dfa85ac0",
   "metadata": {},
   "outputs": [],
   "source": [
    "df"
   ]
  },
  {
   "cell_type": "code",
   "execution_count": null,
   "id": "9cc9dd5b-1fb6-48d9-9d54-a84070f56dcb",
   "metadata": {},
   "outputs": [],
   "source": [
    "df['Diet_Type'].unique()"
   ]
  },
  {
   "cell_type": "code",
   "execution_count": null,
   "id": "fd46c8f4-f997-41ab-bd87-2584a155da09",
   "metadata": {},
   "outputs": [],
   "source": [
    "    numerical_features=['Age','Sleep_Duration','Daily_Screen_Time','Caffeine_Intake',\n",
    "                        'Reaction_Time','Memory_Test_Score','Stress_Level']\n",
    "    categorical_features=['Gender','Diet_Type'] \n",
    "    ordinal_features=['Exercise_Frequency'] #ordinal"
   ]
  },
  {
   "cell_type": "markdown",
   "id": "12f261bd-0d62-41d0-b2e6-010300fbf0e5",
   "metadata": {},
   "source": [
    "### Multicolinealidad"
   ]
  },
  {
   "cell_type": "code",
   "execution_count": null,
   "id": "bc87a548-764b-4e4a-91b8-fe09760bc634",
   "metadata": {},
   "outputs": [],
   "source": [
    "#looking for multicollinearity in the numeric variables \n",
    "    \n",
    "X_numerical = add_constant(df[numerical_features])\n",
    "vif_data = pd.DataFrame()\n",
    "    \n",
    "vif_values = []  \n",
    "    \n",
    "for i in range(X_numerical.shape[1]):  \n",
    "    vif = variance_inflation_factor(X_numerical.values, i)   \n",
    "    vif_values.append(vif)                                            \n",
    "    \n",
    "    \n",
    "vif_data[\"feature\"] = X_numerical.columns  \n",
    "vif_data[\"VIF\"] = vif_values \n",
    "    \n",
    "print(vif_data)"
   ]
  },
  {
   "cell_type": "markdown",
   "id": "a9878143-a927-4b68-b627-712d7859185b",
   "metadata": {},
   "source": [
    "#### no hay colinealidad en las diferentes variables numericas"
   ]
  },
  {
   "cell_type": "markdown",
   "id": "78282634-88e8-47f2-9486-8c12c70071c8",
   "metadata": {},
   "source": [
    "### Splitting data"
   ]
  },
  {
   "cell_type": "code",
   "execution_count": null,
   "id": "dcbf4540-704d-4622-8c23-01bf7526dba3",
   "metadata": {},
   "outputs": [],
   "source": [
    "X = df.drop(columns=[\"Cognitive_Score\"])\n",
    "y = df[\"Cognitive_Score\"]"
   ]
  },
  {
   "cell_type": "code",
   "execution_count": null,
   "id": "16cd7b7f-8381-4717-86d2-f1830b1821e6",
   "metadata": {},
   "outputs": [],
   "source": [
    "X_train, X_test, y_train, y_test = train_test_split(X, y, test_size=0.2, random_state=42)"
   ]
  },
  {
   "cell_type": "code",
   "execution_count": null,
   "id": "b6aa199a-f904-4b53-82d9-b31e029fb55b",
   "metadata": {},
   "outputs": [],
   "source": [
    "exercise_mapping = {'Low': 1, 'Medium': 2, 'High': 3}"
   ]
  },
  {
   "cell_type": "code",
   "execution_count": null,
   "id": "34998212-f56a-4fd5-8fe1-bd8806a95bb1",
   "metadata": {},
   "outputs": [],
   "source": [
    "preprocessor = ColumnTransformer(\n",
    "    transformers=[\n",
    "        ('numerical', StandardScaler(), numerical_features),\n",
    "        ('categorical', OneHotEncoder(drop='first'), categorical_features),\n",
    "        ('ordinal', ce.OrdinalEncoder(\n",
    "            cols=ordinal_features,\n",
    "            mapping=[{\n",
    "                'col': 'Exercise_Frequency',\n",
    "                'mapping': exercise_mapping\n",
    "            }]\n",
    "        ), ordinal_features)\n",
    "    ]\n",
    ")"
   ]
  },
  {
   "cell_type": "code",
   "execution_count": null,
   "id": "edecb65e-4f29-4322-8440-cbb155a7123d",
   "metadata": {},
   "outputs": [],
   "source": [
    "pipeline = Pipeline([\n",
    "    ('preprocessor', preprocessor),\n",
    "    ('regressor', LinearRegression())\n",
    "])"
   ]
  },
  {
   "cell_type": "code",
   "execution_count": null,
   "id": "c0bf51bb-ffd5-4899-8ffb-04e4586267ff",
   "metadata": {},
   "outputs": [],
   "source": [
    "pipeline"
   ]
  },
  {
   "cell_type": "code",
   "execution_count": null,
   "id": "4f244e33-6cdc-4148-b0cf-65c5ffb15785",
   "metadata": {},
   "outputs": [],
   "source": [
    "pipeline.fit(X_train, y_train)"
   ]
  },
  {
   "cell_type": "code",
   "execution_count": null,
   "id": "480d1fe2-0b76-4961-966f-be9eaf756f93",
   "metadata": {},
   "outputs": [],
   "source": [
    "feature_names = pipeline.named_steps['preprocessor'].get_feature_names_out()"
   ]
  },
  {
   "cell_type": "code",
   "execution_count": null,
   "id": "4a206983-fa44-4dbb-9424-6ea5265a3352",
   "metadata": {},
   "outputs": [],
   "source": [
    "feature_names"
   ]
  },
  {
   "cell_type": "code",
   "execution_count": null,
   "id": "eb821be3-bdc1-4c90-8525-67fdcfd8c714",
   "metadata": {},
   "outputs": [],
   "source": [
    "coefficients = pipeline.named_steps['regressor'].coef_"
   ]
  },
  {
   "cell_type": "code",
   "execution_count": null,
   "id": "e1f45f96-d088-446e-89ae-1b35a47540a5",
   "metadata": {},
   "outputs": [],
   "source": [
    "coef_df=pd.DataFrame({'features':feature_names,\n",
    "                    'coeficientes':coefficients}).sort_values(by='coeficientes',key=abs,ascending=False)"
   ]
  },
  {
   "cell_type": "code",
   "execution_count": null,
   "id": "3193ce57-20c0-41c6-887c-fe9f36067ebc",
   "metadata": {},
   "outputs": [],
   "source": [
    "coef_df"
   ]
  },
  {
   "cell_type": "code",
   "execution_count": null,
   "id": "a63c4f45-ac00-41c7-ba4b-abaf0c27cd9f",
   "metadata": {},
   "outputs": [],
   "source": [
    "df['Cognitive_Score'].describe()"
   ]
  },
  {
   "cell_type": "markdown",
   "id": "779bc5fd-aa45-483c-859b-06358aea2f3e",
   "metadata": {},
   "source": [
    "##  p value de la regresion"
   ]
  },
  {
   "cell_type": "code",
   "execution_count": null,
   "id": "5b4c9992-9d26-4ab4-ae18-b653f2da3e53",
   "metadata": {},
   "outputs": [],
   "source": [
    "# preprocesando los datos antes de sacar el p-value \n",
    "X_train_processed = preprocessor.fit_transform(X_train)"
   ]
  },
  {
   "cell_type": "code",
   "execution_count": null,
   "id": "f2a55d7f-8d9e-438d-b312-744536955592",
   "metadata": {},
   "outputs": [],
   "source": [
    "# Añadir una constante (intercepto) a X_train para statsmodels\n",
    "X_train_with_const = sm.add_constant(X_train_processed)\n",
    "\n",
    "# Ajustar el modelo con statsmodels para obtener los valores p\n",
    "model_sm = sm.OLS(y_train, X_train_with_const).fit()\n",
    "\n",
    "# Ver el resumen del modelo, que incluye los p-values\n",
    "print(model_sm.summary())"
   ]
  },
  {
   "cell_type": "markdown",
   "id": "a17a5641-5461-405f-95eb-f9403d81f238",
   "metadata": {},
   "source": [
    "## Overfitting"
   ]
  },
  {
   "cell_type": "code",
   "execution_count": null,
   "id": "34b938db-0cbe-4782-b0a9-54f975c6c789",
   "metadata": {},
   "outputs": [],
   "source": [
    "scores = cross_val_score(pipeline, X, y, cv=5, scoring='r2')\n",
    "print(\"R² en CV (5 folds):\", scores)\n",
    "print(\"Media:\", scores.mean(), \"±\", scores.std())"
   ]
  }
 ],
 "metadata": {
  "kernelspec": {
   "display_name": "Python 3 (ipykernel)",
   "language": "python",
   "name": "python3"
  },
  "language_info": {
   "codemirror_mode": {
    "name": "ipython",
    "version": 3
   },
   "file_extension": ".py",
   "mimetype": "text/x-python",
   "name": "python",
   "nbconvert_exporter": "python",
   "pygments_lexer": "ipython3",
   "version": "3.10.18"
  }
 },
 "nbformat": 4,
 "nbformat_minor": 5
}
